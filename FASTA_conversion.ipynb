{
 "cells": [
  {
   "cell_type": "markdown",
   "id": "0d7d89fa-22e3-457b-a101-556e79b365f1",
   "metadata": {},
   "source": [
    "# FASTA file conversion"
   ]
  },
  {
   "cell_type": "markdown",
   "id": "30db048e-e4dc-40f1-b433-0294a1ede40d",
   "metadata": {},
   "source": [
    "## Objective: To convert into FASTA file format"
   ]
  },
  {
   "cell_type": "code",
   "execution_count": null,
   "id": "10d04016-ddaf-4c94-b655-7f471a688925",
   "metadata": {},
   "outputs": [],
   "source": [
    "!pip install biopython"
   ]
  },
  {
   "cell_type": "code",
   "execution_count": null,
   "id": "6d07f427-500e-49cc-b6bb-662f02d09b5b",
   "metadata": {},
   "outputs": [],
   "source": [
    "from Bio.Seq import Seq\n",
    "from Bio.SeqRecord import SeqRecord\n",
    "from Bio import SeqIO\n",
    "\n",
    "#defining the DNA sequence\n",
    "dna_sequence = input(\"Enter or paste the sequence you want the file in fasta format\")\n",
    "\n",
    "#defining the DNA sequence to an object\n",
    "dna_sequence = Seq(dna_sequence)\n",
    "\n",
    "#defining the SeqRecord\n",
    "seq_id = input(\"Enter the sequence ID\")\n",
    "description = input(\"Describe the DNA sequence/ significance\")\n",
    "seq_record = SeqRecord(dna_sequence, id=seq_id, description=description)\n",
    "\n",
    "#Defining the output file name\n",
    "output = input(\"Enter the file name you want in fasta format\")\n",
    "#output_file = output.fasta\n",
    "\n",
    "#Converting to fasta file\n",
    "SeqIO.write(seq_record, output, \"fasta\")\n",
    "\n",
    "print(f\"DNA sequence is now saved as {output}\")"
   ]
  },
  {
   "cell_type": "code",
   "execution_count": null,
   "id": "1d4ac1fd-bed0-4d5c-a951-accfb17a00c0",
   "metadata": {},
   "outputs": [],
   "source": []
  },
  {
   "cell_type": "code",
   "execution_count": null,
   "id": "43561cc9-301d-4b8d-8a0a-0aa51b162ae1",
   "metadata": {},
   "outputs": [],
   "source": []
  }
 ],
 "metadata": {
  "kernelspec": {
   "display_name": "Python 3 (ipykernel)",
   "language": "python",
   "name": "python3"
  },
  "language_info": {
   "codemirror_mode": {
    "name": "ipython",
    "version": 3
   },
   "file_extension": ".py",
   "mimetype": "text/x-python",
   "name": "python",
   "nbconvert_exporter": "python",
   "pygments_lexer": "ipython3",
   "version": "3.12.7"
  }
 },
 "nbformat": 4,
 "nbformat_minor": 5
}
