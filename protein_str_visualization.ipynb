{
 "cells": [
  {
   "cell_type": "markdown",
   "id": "80f973c9-4edb-465f-a832-159386c55054",
   "metadata": {},
   "source": [
    "Protein structure visualization\n"
   ]
  },
  {
   "cell_type": "markdown",
   "id": "48873360-76dd-408d-96a0-48639973e8c9",
   "metadata": {},
   "source": [
    "Objective: To visualize the protein via PDB file format"
   ]
  },
  {
   "cell_type": "code",
   "execution_count": null,
   "id": "4c7eec04-0697-42ec-896f-0526b2ceef45",
   "metadata": {
    "jupyter": {
     "source_hidden": true
    }
   },
   "outputs": [],
   "source": [
    "# check whether necessary libraries are present or not\n",
    "try:\n",
    "    from Bio.PDB import PDBParser\n",
    "    import nglviewer as nv\n",
    "    import py3Dmol\n",
    "    print(\"Necessary libraries are installed\")\n",
    "except ImportError as e:\n",
    "    print(f\"library not installed: {e}\")"
   ]
  },
  {
   "cell_type": "code",
   "execution_count": null,
   "id": "37ddb178-f764-48ad-a5e6-e966c2a73105",
   "metadata": {},
   "outputs": [],
   "source": [
    "!pip install biopython nglview py3Dmol"
   ]
  },
  {
   "cell_type": "code",
   "execution_count": null,
   "id": "1f661e6f-1ac3-40d4-a750-533d906352be",
   "metadata": {},
   "outputs": [],
   "source": [
    "from Bio.PDB import PDBParser\n",
    "import nglview as nv\n",
    "import py3Dmol"
   ]
  },
  {
   "cell_type": "code",
   "execution_count": null,
   "id": "4637316f-ac85-45a7-9ec2-e1517a9f278e",
   "metadata": {},
   "outputs": [],
   "source": [
    "#either use forwardslash or strings in the pdb_file path\n",
    "pdb_file = r\"pdb_file_path.pdb\"\n",
    "parser = PDBParser()\n",
    "structure = parser.get_structure(\"protein_name\", pdb_file)"
   ]
  },
  {
   "cell_type": "code",
   "execution_count": null,
   "id": "c04bbdf5-12c9-43e9-bab1-cce9dd7b8543",
   "metadata": {},
   "outputs": [],
   "source": [
    "view = nv.show_biopython(structure)\n",
    "view.add_ball_and_stick()  # Add ball-and-stick representation\n",
    "view.add_cartoon(color='secondary structure')  # Color by secondary structure\n",
    "view"
   ]
  },
  {
   "cell_type": "code",
   "execution_count": null,
   "id": "0dd29cf4-40d2-44e1-a5ff-fb80b4cd7286",
   "metadata": {},
   "outputs": [],
   "source": [
    "with open(pdb_file, 'r') as f:\n",
    "    pdb_data = f.read()\n",
    "\n",
    "viewer = py3Dmol.view(width=800, height=600)\n",
    "viewer.addModel(pdb_data, 'pdb')\n",
    "viewer.setStyle({'cartoon': {}})\n",
    "viewer.addSurface(py3Dmol.VDW, {'opacity': 0.7})\n",
    "viewer.zoomTo()\n",
    "viewer.show()"
   ]
  },
  {
   "cell_type": "code",
   "execution_count": null,
   "id": "1b3d09a2-0635-43f1-9e30-7013e7bde070",
   "metadata": {},
   "outputs": [],
   "source": []
  }
 ],
 "metadata": {
  "kernelspec": {
   "display_name": "Python 3 (ipykernel)",
   "language": "python",
   "name": "python3"
  },
  "language_info": {
   "codemirror_mode": {
    "name": "ipython",
    "version": 3
   },
   "file_extension": ".py",
   "mimetype": "text/x-python",
   "name": "python",
   "nbconvert_exporter": "python",
   "pygments_lexer": "ipython3",
   "version": "3.12.7"
  }
 },
 "nbformat": 4,
 "nbformat_minor": 5
}
