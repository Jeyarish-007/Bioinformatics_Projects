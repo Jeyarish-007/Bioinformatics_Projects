{
 "cells": [
  {
   "cell_type": "markdown",
   "id": "1e7cb350-df6f-48a3-bf9d-c1d32942b791",
   "metadata": {},
   "source": [
    "## GC Calculator\n"
   ]
  },
  {
   "cell_type": "markdown",
   "id": "7ded82a2-356b-42fa-a5f3-c69fffa888fe",
   "metadata": {},
   "source": [
    "### To calculate the GC contet in the DNA sequnence"
   ]
  },
  {
   "cell_type": "code",
   "execution_count": null,
   "id": "dd6a1532-2b75-4fa3-943a-ba32bb8ed181",
   "metadata": {},
   "outputs": [],
   "source": [
    "#To defining a function\n",
    "def gc_content(seq):\n",
    "    gc_count = seq.count(\"G\") + seq.count(\"C\")\n",
    "#Calculating the GC percentage from the total sequence\n",
    "    gc_percentage = (gc_count/len(seq)) * 100\n",
    "    return gc_percentage\n",
    "\n",
    "#Calculating User input GC Content\n",
    "dna_sequence = input(\"Enter a DNA sequence: \")\n",
    "gc_percentage = gc_content(dna_sequence)\n",
    "print(f\"The GC Content of the given sequence is found to be: {gc_percentage}\")"
   ]
  },
  {
   "cell_type": "code",
   "execution_count": null,
   "id": "9e1287f3-ebb2-4099-a9c0-b62cb9ab5d83",
   "metadata": {},
   "outputs": [],
   "source": []
  }
 ],
 "metadata": {
  "kernelspec": {
   "display_name": "Python 3 (ipykernel)",
   "language": "python",
   "name": "python3"
  },
  "language_info": {
   "codemirror_mode": {
    "name": "ipython",
    "version": 3
   },
   "file_extension": ".py",
   "mimetype": "text/x-python",
   "name": "python",
   "nbconvert_exporter": "python",
   "pygments_lexer": "ipython3",
   "version": "3.12.7"
  }
 },
 "nbformat": 4,
 "nbformat_minor": 5
}
