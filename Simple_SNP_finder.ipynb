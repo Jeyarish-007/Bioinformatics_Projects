{
 "cells": [
  {
   "cell_type": "markdown",
   "id": "139edd3d-1215-46d0-b549-a5b5b53b2464",
   "metadata": {},
   "source": [
    "# Simple SNP Finder"
   ]
  },
  {
   "cell_type": "markdown",
   "id": "c7e1099a-ac19-4132-bb85-40e936736138",
   "metadata": {},
   "source": [
    "## Objective: To find the SNPs in the DNA sequence and finding them with positions"
   ]
  },
  {
   "cell_type": "code",
   "execution_count": null,
   "id": "2d1356a8-ffa3-4a8e-97ec-11e83c44697f",
   "metadata": {},
   "outputs": [],
   "source": [
    "from Bio import SeqIO\n",
    "\n",
    "def find_SNP(sequence1, sequence2):\n",
    "    snps = []\n",
    "    length = min(len(sequence1), len(sequence2))\n",
    "\n",
    "    for i in range(length):\n",
    "        if sequence1[i] != sequence2[i]:\n",
    "            snps.append((i, sequence1[i], sequence2[i]))\n",
    "    return snps\n",
    "\n",
    "#load DNA Sequence fasta files\n",
    "#Load DNA Sequence 1 fasta file\n",
    "seq1 = SeqIO.read(\"Sequence 1 file name\", \"fasta\").seq\n",
    "#Load DNA Sequence 2 fasta file\n",
    "seq2 = SeqIO.read(\"Sequence 2 file name\", \"fasta\").seq\n",
    "\n",
    "#Identify SNPs\n",
    "snps = find_SNP(seq1, seq2)\n",
    "\n",
    "# print SNPs\n",
    "print(\"Position   |   Seq1 Nucleotide     |   Seq2 Nucleotide\")\n",
    "for snp in snps:\n",
    "    print(f\"{snp[0]}   \\t   |   {snp[1]}   \\t\\t   |   {snp[2]}\")"
   ]
  },
  {
   "cell_type": "code",
   "execution_count": null,
   "id": "2c6cccc0-5e29-4edd-b5f2-457e91e582aa",
   "metadata": {},
   "outputs": [],
   "source": []
  }
 ],
 "metadata": {
  "kernelspec": {
   "display_name": "Python 3 (ipykernel)",
   "language": "python",
   "name": "python3"
  },
  "language_info": {
   "codemirror_mode": {
    "name": "ipython",
    "version": 3
   },
   "file_extension": ".py",
   "mimetype": "text/x-python",
   "name": "python",
   "nbconvert_exporter": "python",
   "pygments_lexer": "ipython3",
   "version": "3.12.7"
  }
 },
 "nbformat": 4,
 "nbformat_minor": 5
}
