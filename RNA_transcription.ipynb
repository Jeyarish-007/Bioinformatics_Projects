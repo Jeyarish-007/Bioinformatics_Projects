{
 "cells": [
  {
   "cell_type": "markdown",
   "id": "d6198930",
   "metadata": {},
   "source": [
    "RNA_transcription"
   ]
  },
  {
   "cell_type": "markdown",
   "id": "b0cf5c47",
   "metadata": {},
   "source": [
    "Objective: To transcribe DNA to RNA"
   ]
  },
  {
   "cell_type": "code",
   "execution_count": 1,
   "id": "ee6e0906",
   "metadata": {},
   "outputs": [],
   "source": [
    "# function to define DNA to RNA\n",
    "\n",
    "def transcribe_dna_to_rna(dna_seq):\n",
    "    transcription_map = {\"A\": \"U\", \"T\": \"A\", \"G\": \"C\", \"C\": \"G\"}\n",
    "    rna_seq = \"\"\n",
    "    for nucleotide in dna_seq:\n",
    "        rna_seq += transcription_map[nucleotide]\n",
    "    return rna_seq\n",
    "\n"
   ]
  },
  {
   "cell_type": "code",
   "execution_count": 3,
   "id": "f670d98b",
   "metadata": {},
   "outputs": [
    {
     "name": "stdin",
     "output_type": "stream",
     "text": [
      "Please enter a DNA sequence:  aattggcgta\n"
     ]
    },
    {
     "name": "stdout",
     "output_type": "stream",
     "text": [
      "DNA sequence AATTGGCGTA \n",
      "RNA sequence UUAACCGCAU\n"
     ]
    }
   ],
   "source": [
    "# user input DNA sequence and converting in upper case\n",
    "\n",
    "dna_sequence = input(\"Please enter a DNA sequence: \").upper()\n",
    "rna_sequence = transcribe_dna_to_rna(dna_sequence)\n",
    "print(\"DNA sequence\", dna_sequence.upper(), \"\\nRNA sequence\", rna_sequence)"
   ]
  },
  {
   "cell_type": "code",
   "execution_count": null,
   "id": "bb8859f4",
   "metadata": {},
   "outputs": [],
   "source": []
  }
 ],
 "metadata": {
  "kernelspec": {
   "display_name": "Python 3 (ipykernel)",
   "language": "python",
   "name": "python3"
  },
  "language_info": {
   "codemirror_mode": {
    "name": "ipython",
    "version": 3
   },
   "file_extension": ".py",
   "mimetype": "text/x-python",
   "name": "python",
   "nbconvert_exporter": "python",
   "pygments_lexer": "ipython3",
   "version": "3.12.7"
  }
 },
 "nbformat": 4,
 "nbformat_minor": 5
}
