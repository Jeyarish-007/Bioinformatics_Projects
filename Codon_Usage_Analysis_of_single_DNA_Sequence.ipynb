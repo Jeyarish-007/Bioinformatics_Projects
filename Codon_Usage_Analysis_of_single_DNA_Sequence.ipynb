{
 "cells": [
  {
   "cell_type": "markdown",
   "id": "9ae69b20-e0cd-4d8e-9879-7c4e5978272d",
   "metadata": {},
   "source": [
    "# Codon usage analysis"
   ]
  },
  {
   "cell_type": "markdown",
   "id": "76f2c104-71f3-4be8-8bfe-e3f9bdd00466",
   "metadata": {},
   "source": [
    "## Objective: To count the frequency of codons"
   ]
  },
  {
   "cell_type": "code",
   "execution_count": null,
   "id": "fa49412c-1ea2-45fd-b56c-0bac875da619",
   "metadata": {},
   "outputs": [],
   "source": [
    "# Import Counter because (Considering our objective), Counter is a sub-class of dictionaries which helps in tallying \n",
    "from collections import Counter\n",
    "\n",
    "# Defining a function\n",
    "def codon_usage(seq):\n",
    "    # Check the sequence length is a multiple of 3 if not raise a ValueError (Error for value related scenarios)\n",
    "    if len(seq) % 3 != 0:\n",
    "        raise ValueError(\"The length of the DNA Sequence is not a multiple of 3\")\n",
    "\n",
    "    # Use Counter to count the codon frequencies\n",
    "    codon_count = Counter()\n",
    "\n",
    "    for i in range(0, len(seq), 3):\n",
    "        codon = seq[i: i+3]\n",
    "        codon_count[codon] += 1\n",
    "\n",
    "    #Calculate the total number of codons\n",
    "    total_codons = sum(codon_count.values())\n",
    "    print(f\"The total number of codons are: {total_codons}\")\n",
    "\n",
    "    #Calculate percentage of each codon used here\n",
    "    codon_usage_percentage = {codon: (count/ total_codons) for codon, count in codon_count.items()}\n",
    "    return codon_usage_percentage\n",
    "    \n",
    "# User input DNA sequence\n",
    "try:\n",
    "    dna_seq = input(\"Enter or paste a DNA sequence\")\n",
    "    codon_usage_percent = codon_usage(dna_seq)\n",
    "\n",
    "    for codon, percentage in codon_usage_percent.items():\n",
    "        print(f\"Codon: {codon}, Presence: {percentage:.2f}%\")\n",
    "# Error handling\n",
    "except ValueError as e:\n",
    "    print(e)"
   ]
  },
  {
   "cell_type": "code",
   "execution_count": null,
   "id": "2b081e18-bd1d-4acf-b612-4d242aa5d562",
   "metadata": {},
   "outputs": [],
   "source": []
  }
 ],
 "metadata": {
  "kernelspec": {
   "display_name": "Python 3 (ipykernel)",
   "language": "python",
   "name": "python3"
  },
  "language_info": {
   "codemirror_mode": {
    "name": "ipython",
    "version": 3
   },
   "file_extension": ".py",
   "mimetype": "text/x-python",
   "name": "python",
   "nbconvert_exporter": "python",
   "pygments_lexer": "ipython3",
   "version": "3.12.7"
  }
 },
 "nbformat": 4,
 "nbformat_minor": 5
}
