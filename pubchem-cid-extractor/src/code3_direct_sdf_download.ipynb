{
 "cells": [
  {
   "cell_type": "markdown",
   "id": "4cb18a5c",
   "metadata": {},
   "source": [
    "### Direct SDF Download from Excel CIDs"
   ]
  },
  {
   "cell_type": "code",
   "execution_count": null,
   "id": "684e8d76",
   "metadata": {},
   "outputs": [],
   "source": [
    "import pandas as pd\n",
    "import requests\n",
    "import os\n",
    "import time\n",
    "\n",
    "# Load your Excel file\n",
    "df = pd.read_excel(r\"D:\\TMH\\Proton_Lab\\Gokul_Project\\Boswellia Serrata Phytochemicals.xlsx\")  # Replace with your actual filename\n",
    "\n",
    "# Extract and clean PubChem CIDs from the relevant column\n",
    "cid_column = \"PubChem ID\"  # Replace with your actual column name\n",
    "raw_cids = df[cid_column].dropna().tolist()\n",
    "\n",
    "# Strip 'CID:' prefix\n",
    "clean_cids = [cid.replace(\"CID:\", \"\").strip() for cid in raw_cids if cid.startswith(\"CID:\") and cid.replace(\"CID:\", \"\").strip().isdigit()]\n",
    "\n",
    "# Create output folder\n",
    "output_dir = r\"D:\\TMH\\Proton_Lab\\Gokul_Project\\sdf_files\"\n",
    "os.makedirs(output_dir, exist_ok=True)\n",
    "\n",
    "# Download each SDF\n",
    "for cid in clean_cids:\n",
    "    url = f\"https://pubchem.ncbi.nlm.nih.gov/rest/pug/compound/cid/{cid}/SDF?record_type=3d\"\n",
    "    try:\n",
    "        response = requests.get(url, timeout=10)\n",
    "        if response.status_code == 200:\n",
    "            file_path = os.path.join(output_dir, f\"{cid}.sdf\")\n",
    "            with open(file_path, \"wb\") as f:\n",
    "                f.write(response.content)\n",
    "            print(f\"Downloaded CID {cid} to {file_path}\")\n",
    "        else:\n",
    "            print(f\"Failed to download CID {cid} (status code: {response.status_code})\")\n",
    "    except requests.exceptions.RequestException as e:\n",
    "        print(f\"Connection error for CID {cid}: {e}\")\n",
    "    \n",
    "    time.sleep(0.2)  # Respectful delay for PubChem servers\n"
   ]
  }
 ],
 "metadata": {
  "language_info": {
   "name": "python"
  }
 },
 "nbformat": 4,
 "nbformat_minor": 5
}
