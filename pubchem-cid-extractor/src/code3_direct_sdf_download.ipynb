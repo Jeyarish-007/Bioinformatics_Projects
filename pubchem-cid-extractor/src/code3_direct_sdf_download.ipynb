{
 "cells": [
  {
   "cell_type": "markdown",
   "id": "4cb18a5c",
   "metadata": {},
   "source": [
    "### Direct SDF Download from Excel CIDs"
   ]
  },
  {
   "cell_type": "code",
   "execution_count": null,
   "id": "684e8d76",
   "metadata": {},
   "outputs": [],
   "source": [
    "import pandas as pd\n",
    "import requests\n",
    "import os\n",
    "import time\n",
    "import argparse\n",
    "\n",
    "parser = argparse.ArgumentParser(description=\"Quick download of SDF files from clean CIDs\")\n",
    "parser.add_argument(\"--input\", default=\"data/example_input.xlsx\", help=\"Input Excel/CSV with PubChem IDs\")\n",
    "parser.add_argument(\"--output\", default=\"outputs/sdf_files\", help=\"Output folder for SDF files\")\n",
    "parser.add_argument(\"--cid_column\", default=\"PubChem ID\", help=\"Column name containing CIDs\")\n",
    "args = parser.parse_args()\n",
    "\n",
    "if args.input.endswith(\".xlsx\"):\n",
    "    df = pd.read_excel(args.input)\n",
    "else:\n",
    "    df = pd.read_csv(args.input)\n",
    "\n",
    "raw_cids = df[args.cid_column].dropna().tolist()\n",
    "clean_cids = [cid.replace(\"CID:\", \"\").strip() for cid in raw_cids if str(cid).startswith(\"CID:\") and cid.replace(\"CID:\", \"\").strip().isdigit()]\n",
    "\n",
    "os.makedirs(args.output, exist_ok=True)\n",
    "\n",
    "for cid in clean_cids:\n",
    "    url = f\"https://pubchem.ncbi.nlm.nih.gov/rest/pug/compound/cid/{cid}/SDF?record_type=3d\"\n",
    "    try:\n",
    "        response = requests.get(url, timeout=10)\n",
    "        if response.status_code == 200:\n",
    "            file_path = os.path.join(args.output, f\"{cid}.sdf\")\n",
    "            with open(file_path, \"wb\") as f:\n",
    "                f.write(response.content)\n",
    "            print(f\"Downloaded CID {cid}\")\n",
    "        else:\n",
    "            print(f\"Failed CID {cid} (status {response.status_code})\")\n",
    "    except requests.exceptions.RequestException as e:\n",
    "        print(f\"Error for CID {cid}: {e}\")\n",
    "\n",
    "    time.sleep(0.2)\n"
   ]
  }
 ],
 "metadata": {
  "language_info": {
   "name": "python"
  }
 },
 "nbformat": 4,
 "nbformat_minor": 5
}
