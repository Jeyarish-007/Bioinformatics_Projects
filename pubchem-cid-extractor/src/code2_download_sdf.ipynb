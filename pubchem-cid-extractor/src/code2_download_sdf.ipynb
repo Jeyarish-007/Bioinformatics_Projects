{
 "cells": [
  {
   "cell_type": "markdown",
   "id": "81d3565c",
   "metadata": {},
   "source": [
    "### Download SDF Files Based on Extracted CIDs"
   ]
  },
  {
   "cell_type": "code",
   "execution_count": null,
   "id": "a048f3ea",
   "metadata": {},
   "outputs": [],
   "source": [
    "import pandas as pd\n",
    "import requests\n",
    "import os\n",
    "import time\n",
    "import argparse\n",
    "\n",
    "parser = argparse.ArgumentParser(description=\"Download SDF files from PubChem CIDs\")\n",
    "parser.add_argument(\"--input\", default=\"data/imppat_enriched.csv\", help=\"Input CSV with PubChem CIDs\")\n",
    "parser.add_argument(\"--output\", default=\"outputs/sdf_files\", help=\"Output folder for SDF files\")\n",
    "parser.add_argument(\"--log\", default=\"outputs/logs/failed_downloads.txt\", help=\"Log file for failed downloads\")\n",
    "args = parser.parse_args()\n",
    "\n",
    "os.makedirs(args.output, exist_ok=True)\n",
    "os.makedirs(os.path.dirname(args.log), exist_ok=True)\n",
    "\n",
    "df = pd.read_csv(args.input)\n",
    "\n",
    "if os.path.exists(args.log):\n",
    "    with open(args.log, \"r\") as f:\n",
    "        failed_cids = set(line.strip() for line in f if line.strip())\n",
    "else:\n",
    "    failed_cids = set()\n",
    "\n",
    "def download_sdf(cid, retries=3):\n",
    "    url = f\"https://pubchem.ncbi.nlm.nih.gov/rest/pug/compound/cid/{cid}/SDF?record_type=3d\"\n",
    "    file_path = os.path.join(args.output, f\"{cid}.sdf\")\n",
    "\n",
    "    if os.path.exists(file_path):\n",
    "        print(f\"Already downloaded CID {cid}\")\n",
    "        return True\n",
    "\n",
    "    for attempt in range(1, retries + 1):\n",
    "        try:\n",
    "            response = requests.get(url, timeout=10)\n",
    "            if response.status_code == 200:\n",
    "                with open(file_path, \"wb\") as f:\n",
    "                    f.write(response.content)\n",
    "                print(f\"Downloaded CID {cid}\")\n",
    "                return True\n",
    "            else:\n",
    "                print(f\"CID {cid} failed with status {response.status_code}\")\n",
    "        except requests.exceptions.RequestException as e:\n",
    "            print(f\"CID {cid} attempt {attempt} failed: {e}\")\n",
    "            time.sleep(2)\n",
    "\n",
    "    with open(args.log, \"a\") as f:\n",
    "        f.write(f\"{cid}\\n\")\n",
    "    return False\n",
    "\n",
    "for cid in df[\"PubChem ID (Raw)\"]:\n",
    "    if str(cid).isdigit() and cid not in failed_cids:\n",
    "        download_sdf(str(cid))\n",
    "    else:\n",
    "        print(f\"Skipping invalid or failed CID: {cid}\")\n"
   ]
  }
 ],
 "metadata": {
  "language_info": {
   "name": "python"
  }
 },
 "nbformat": 4,
 "nbformat_minor": 5
}
