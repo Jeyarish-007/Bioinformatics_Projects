{
 "cells": [
  {
   "cell_type": "markdown",
   "id": "81d3565c",
   "metadata": {},
   "source": [
    "### Download SDF Files Based on Extracted CIDs"
   ]
  },
  {
   "cell_type": "code",
   "execution_count": null,
   "id": "a048f3ea",
   "metadata": {},
   "outputs": [],
   "source": [
    "import pandas as pd\n",
    "import requests\n",
    "import os\n",
    "import time\n",
    "\n",
    "# Setup paths\n",
    "input_csv = r\"D:\\TMH\\Proton_Lab\\Gokul_Project\\imppat_enriched.csv\"\n",
    "output_dir = r\"D:\\TMH\\Proton_Lab\\Gokul_Project\\sdf_3d\"\n",
    "log_file = r\"D:\\TMH\\Proton_Lab\\Gokul_Project\\failed_downloads.txt\"\n",
    "os.makedirs(output_dir, exist_ok=True)\n",
    "\n",
    "# Load data\n",
    "df = pd.read_csv(input_csv)\n",
    "\n",
    "# Load previously failed CIDs (if any)\n",
    "if os.path.exists(log_file):\n",
    "    with open(log_file, \"r\") as f:\n",
    "        failed_cids = set(line.strip() for line in f if line.strip())\n",
    "else:\n",
    "    failed_cids = set()\n",
    "\n",
    "# Download function with retry\n",
    "def download_sdf(cid, retries=3):\n",
    "    url = f\"https://pubchem.ncbi.nlm.nih.gov/rest/pug/compound/cid/{cid}/SDF?record_type=3d\"\n",
    "    file_path = os.path.join(output_dir, f\"{cid}.sdf\")\n",
    "\n",
    "    # Skip if already downloaded\n",
    "    if os.path.exists(file_path):\n",
    "        print(f\"Already downloaded CID {cid}\")\n",
    "        return True\n",
    "\n",
    "    for attempt in range(1, retries + 1):\n",
    "        try:\n",
    "            response = requests.get(url, timeout=10)\n",
    "            if response.status_code == 200:\n",
    "                with open(file_path, \"wb\") as f:\n",
    "                    f.write(response.content)\n",
    "                print(f\"Downloaded CID {cid}\")\n",
    "                return True\n",
    "            else:\n",
    "                print(f\"CID {cid} failed with status {response.status_code}\")\n",
    "        except requests.exceptions.RequestException as e:\n",
    "            print(f\"CID {cid} attempt {attempt} failed: {e}\")\n",
    "            time.sleep(2)\n",
    "\n",
    "    # Log failure\n",
    "    with open(log_file, \"a\") as f:\n",
    "        f.write(f\"{cid}\\n\")\n",
    "    return False\n",
    "\n",
    "# Run downloader\n",
    "for cid in df[\"PubChem ID (Raw)\"]:\n",
    "    if str(cid).isdigit() and cid not in failed_cids:\n",
    "        download_sdf(str(cid))\n",
    "    else:\n",
    "        print(f\"Skipping invalid or previously failed CID: {cid}\")\n"
   ]
  }
 ],
 "metadata": {
  "language_info": {
   "name": "python"
  }
 },
 "nbformat": 4,
 "nbformat_minor": 5
}
