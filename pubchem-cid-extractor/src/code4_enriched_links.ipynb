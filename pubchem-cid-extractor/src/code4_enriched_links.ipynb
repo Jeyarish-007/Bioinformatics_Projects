{
 "cells": [
  {
   "cell_type": "markdown",
   "id": "13678822",
   "metadata": {},
   "source": [
    "### SDF Download with Custom Filenames & Download Links"
   ]
  },
  {
   "cell_type": "code",
   "execution_count": null,
   "id": "304a2674",
   "metadata": {},
   "outputs": [],
   "source": [
    "import pandas as pd\n",
    "import requests\n",
    "import os\n",
    "import time\n",
    "import re\n",
    "import argparse\n",
    "\n",
    "parser = argparse.ArgumentParser(description=\"Download SDF files and enrich dataset with hyperlinks\")\n",
    "parser.add_argument(\"--input\", default=\"data/example_input.xlsx\", help=\"Input Excel/CSV file\")\n",
    "parser.add_argument(\"--output\", default=\"data/imppat_with_download_links.csv\", help=\"Output CSV file\")\n",
    "parser.add_argument(\"--sdf_dir\", default=\"outputs/sdf_files\", help=\"Directory to save SDF files\")\n",
    "args = parser.parse_args()\n",
    "\n",
    "if args.input.endswith(\".xlsx\"):\n",
    "    df = pd.read_excel(args.input)\n",
    "else:\n",
    "    df = pd.read_csv(args.input)\n",
    "\n",
    "os.makedirs(args.sdf_dir, exist_ok=True)\n",
    "\n",
    "download_links = []\n",
    "\n",
    "for _, row in df.iterrows():\n",
    "    compound = str(row[\"Phytochemical Name\"]).strip()\n",
    "    imp_id = str(row[\"IMPPAT ID\"]).strip()\n",
    "    pubchem_id = str(row[\"PubChem ID\"]).strip()\n",
    "\n",
    "    match = re.search(r\"CID:(\\d+)\", pubchem_id)\n",
    "    if not match:\n",
    "        download_links.append(\"NotFound\")\n",
    "        continue\n",
    "\n",
    "    cid = match.group(1)\n",
    "    clean_name = re.sub(r\"[^a-zA-Z0-9]+\", \"_\", compound)\n",
    "    filename = f\"{clean_name}_{imp_id}_{cid}.sdf\"\n",
    "    file_path = os.path.join(args.sdf_dir, filename)\n",
    "\n",
    "    url = f\"https://pubchem.ncbi.nlm.nih.gov/rest/pug/compound/cid/{cid}/SDF?record_type=3d\"\n",
    "\n",
    "    try:\n",
    "        response = requests.get(url, timeout=10)\n",
    "        if response.status_code == 200:\n",
    "            with open(file_path, \"wb\") as f:\n",
    "                f.write(response.content)\n",
    "            print(f\"Saved: {filename}\")\n",
    "            download_links.append(f'=HYPERLINK(\"{url}\", \"Download\")')\n",
    "        else:\n",
    "            download_links.append(\"Failed\")\n",
    "    except requests.exceptions.RequestException:\n",
    "        download_links.append(\"Error\")\n",
    "\n",
    "    time.sleep(0.2)\n",
    "\n",
    "df[\"3D Structure Link\"] = download_links\n",
    "df.to_csv(args.output, index=False)\n",
    "print(f\"CSV saved: {args.output}\")"
   ]
  }
 ],
 "metadata": {
  "language_info": {
   "name": "python"
  }
 },
 "nbformat": 4,
 "nbformat_minor": 5
}
