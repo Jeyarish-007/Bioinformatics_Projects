{
 "cells": [
  {
   "cell_type": "markdown",
   "id": "932cbb9d",
   "metadata": {},
   "source": [
    "### Generate 3D Download Links Only"
   ]
  },
  {
   "cell_type": "code",
   "execution_count": null,
   "id": "923ecf5c",
   "metadata": {},
   "outputs": [],
   "source": [
    "import pandas as pd\n",
    "import re\n",
    "import argparse\n",
    "import os\n",
    "\n",
    "parser = argparse.ArgumentParser(description=\"Generate Excel with PubChem 3D structure download links\")\n",
    "parser.add_argument(\"--input\", default=\"data/example_input.xlsx\", help=\"Input Excel/CSV file\")\n",
    "parser.add_argument(\"--output\", default=\"data/imppat_with_3D_links.xlsx\", help=\"Output Excel file\")\n",
    "parser.add_argument(\"--cid_column\", default=\"PubChem ID\", help=\"Column name containing PubChem IDs\")\n",
    "args = parser.parse_args()\n",
    "\n",
    "if args.input.endswith(\".xlsx\"):\n",
    "    df = pd.read_excel(args.input)\n",
    "else:\n",
    "    df = pd.read_csv(args.input)\n",
    "\n",
    "hyperlinks = []\n",
    "for _, row in df.iterrows():\n",
    "    pubchem_id = str(row[args.cid_column]).strip()\n",
    "    match = re.search(r\"CID:(\\d+)\", pubchem_id)\n",
    "    if match:\n",
    "        cid = match.group(1)\n",
    "        url = f\"https://pubchem.ncbi.nlm.nih.gov/rest/pug/compound/CID/{cid}/record/SDF?record_type=3d&response_type=save&response_basename=Conformer3D_COMPOUND_CID_{cid}\"\n",
    "        hyperlinks.append(f'=HYPERLINK(\"{url}\", \"Download\")')\n",
    "    else:\n",
    "        hyperlinks.append(\"NotFound\")\n",
    "\n",
    "df[\"3D Structure Link\"] = hyperlinks\n",
    "os.makedirs(os.path.dirname(args.output), exist_ok=True)\n",
    "with pd.ExcelWriter(args.output, engine=\"openpyxl\") as writer:\n",
    "    df.to_excel(writer, index=False)\n",
    "\n",
    "print(f\"Excel file saved: {args.output}\")\n"
   ]
  }
 ],
 "metadata": {
  "language_info": {
   "name": "python"
  }
 },
 "nbformat": 4,
 "nbformat_minor": 5
}
