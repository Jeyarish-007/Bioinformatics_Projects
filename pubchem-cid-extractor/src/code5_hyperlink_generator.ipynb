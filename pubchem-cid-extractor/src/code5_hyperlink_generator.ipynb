{
 "cells": [
  {
   "cell_type": "markdown",
   "id": "932cbb9d",
   "metadata": {},
   "source": [
    "### Generate 3D Download Links Only"
   ]
  },
  {
   "cell_type": "code",
   "execution_count": null,
   "id": "923ecf5c",
   "metadata": {},
   "outputs": [],
   "source": [
    "import pandas as pd\n",
    "import re\n",
    "\n",
    "# Load your input Excel file\n",
    "df = pd.read_excel(r\"D:\\TMH\\Proton_Lab\\Gokul_Project\\Boswellia Serrata Phytochemicals.xlsx\")  # Replace with your actual filename\n",
    "\n",
    "# Store hyperlinks\n",
    "hyperlinks = []\n",
    "\n",
    "# Loop through each row\n",
    "for index, row in df.iterrows():\n",
    "    pubchem_id = str(row[\"PubChem ID\"]).strip()\n",
    "\n",
    "    # Extract numeric CID\n",
    "    match = re.search(r\"CID:(\\d+)\", pubchem_id)\n",
    "    if match:\n",
    "        cid = match.group(1)\n",
    "        # Construct 3D structure download link\n",
    "        url = f\"https://pubchem.ncbi.nlm.nih.gov/rest/pug/compound/CID/{cid}/record/SDF?record_type=3d&response_type=save&response_basename=Conformer3D_COMPOUND_CID_{cid}\"\n",
    "        # Excel-friendly hyperlink formula\n",
    "        hyperlink = f'=HYPERLINK(\"{url}\", \"Download\")'\n",
    "    else:\n",
    "        hyperlink = \"NotFound\"\n",
    "\n",
    "    hyperlinks.append(hyperlink)\n",
    "\n",
    "# Add new column to DataFrame\n",
    "df[\"3D Structure Link\"] = hyperlinks\n",
    "\n",
    "# Save to Excel (.xlsx) with formulas preserved\n",
    "with pd.ExcelWriter(r\"D:\\TMH\\Proton_Lab\\Gokul_Project\\imppat_with_3D_links.xlsx\", engine=\"openpyxl\") as writer:\n",
    "    df.to_excel(writer, index=False)\n",
    "\n",
    "print(\"Excel file saved as 'imppat_with_3D_links.xlsx'\")\n"
   ]
  }
 ],
 "metadata": {
  "language_info": {
   "name": "python"
  }
 },
 "nbformat": 4,
 "nbformat_minor": 5
}
