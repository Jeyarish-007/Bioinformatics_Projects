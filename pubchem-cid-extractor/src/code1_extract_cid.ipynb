{
 "cells": [
  {
   "cell_type": "markdown",
   "id": "4adaec51",
   "metadata": {},
   "source": [
    "## Extract PubChem IDs (CIDs) from Compound Names"
   ]
  },
  {
   "cell_type": "code",
   "execution_count": null,
   "id": "fd632b38",
   "metadata": {},
   "outputs": [],
   "source": [
    "import pandas as pd\n",
    "import requests\n",
    "import time\n",
    "import argparse\n",
    "import os\n",
    "\n",
    "# ------------------------------\n",
    "# Argument parser\n",
    "# ------------------------------\n",
    "parser = argparse.ArgumentParser(description=\"Extract PubChem CIDs from compound names\")\n",
    "parser.add_argument(\"--input\", default=\"data/example_input.xlsx\", help=\"Path to input Excel/CSV file\")\n",
    "parser.add_argument(\"--output\", default=\"data/imppat_enriched.csv\", help=\"Path to output CSV file\")\n",
    "args = parser.parse_args()\n",
    "\n",
    "# ------------------------------\n",
    "# Load input file\n",
    "# ------------------------------\n",
    "input_file = args.input\n",
    "if input_file.endswith(\".xlsx\"):\n",
    "    df = pd.read_excel(input_file)\n",
    "else:\n",
    "    df = pd.read_csv(input_file)\n",
    "\n",
    "names = df[\"Phytochemical Name\"].tolist()\n",
    "\n",
    "# ------------------------------\n",
    "# PubChem query function\n",
    "# ------------------------------\n",
    "def get_pubchem_cid(name):\n",
    "    url = f\"https://pubchem.ncbi.nlm.nih.gov/rest/pug/compound/name/{name}/cids/TXT\"\n",
    "    response = requests.get(url)\n",
    "    if response.status_code == 200:\n",
    "        cid = response.text.strip()\n",
    "        if cid.isdigit():\n",
    "            return f\"CID:{cid}\", cid\n",
    "    return \"CID:NotFound\", \"NotFound\"\n",
    "\n",
    "cid_prefixed, cid_raw = [], []\n",
    "for name in names:\n",
    "    prefixed, raw = get_pubchem_cid(name)\n",
    "    cid_prefixed.append(prefixed)\n",
    "    cid_raw.append(raw)\n",
    "    time.sleep(0.2)  # Respectful delay\n",
    "\n",
    "df[\"PubChem ID (CID:XXXX)\"] = cid_prefixed\n",
    "df[\"PubChem ID (Raw)\"] = cid_raw\n",
    "\n",
    "# ------------------------------\n",
    "# Save results\n",
    "# ------------------------------\n",
    "os.makedirs(os.path.dirname(args.output), exist_ok=True)\n",
    "df.to_csv(args.output, index=False)\n",
    "print(f\"Saved enriched dataset: {args.output}\")\n"
   ]
  }
 ],
 "metadata": {
  "language_info": {
   "name": "python"
  }
 },
 "nbformat": 4,
 "nbformat_minor": 5
}
