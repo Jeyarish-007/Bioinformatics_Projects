{
 "cells": [
  {
   "cell_type": "markdown",
   "id": "4adaec51",
   "metadata": {},
   "source": [
    "## Extract PubChem IDs (CIDs) from Compound Names"
   ]
  },
  {
   "cell_type": "code",
   "execution_count": null,
   "id": "fd632b38",
   "metadata": {},
   "outputs": [],
   "source": [
    "import pandas as pd\n",
    "import requests\n",
    "import time\n",
    "\n",
    "# Load your Excel or CSV file\n",
    "df = pd.read_excel(r\"D:\\TMH\\Proton_Lab\\Gokul_Project\\IMPPAT_ID.xlsx\")  # Replace with your actual filename\n",
    "names = df[\"Phytochemical Name\"].tolist()\n",
    "\n",
    "# Function to query PubChem by compound name\n",
    "def get_pubchem_cid(name):\n",
    "    url = f\"https://pubchem.ncbi.nlm.nih.gov/rest/pug/compound/name/{name}/cids/TXT\"\n",
    "    response = requests.get(url)\n",
    "    if response.status_code == 200:\n",
    "        cid = response.text.strip()\n",
    "        if cid.isdigit():\n",
    "            return f\"CID:{cid}\", cid\n",
    "    return \"CID:NotFound\", \"NotFound\"\n",
    "\n",
    "# Store results\n",
    "cid_prefixed = []\n",
    "cid_raw = []\n",
    "\n",
    "for name in names:\n",
    "    prefixed, raw = get_pubchem_cid(name)\n",
    "    cid_prefixed.append(prefixed)\n",
    "    cid_raw.append(raw)\n",
    "    time.sleep(0.2)  # Respectful delay for PubChem\n",
    "\n",
    "# Add results to DataFrame\n",
    "df[\"PubChem ID (CID:XXXX)\"] = cid_prefixed\n",
    "df[\"PubChem ID (Raw)\"] = cid_raw\n",
    "\n",
    "# Save to CSV\n",
    "df.to_csv(r\"D:\\TMH\\Proton_Lab\\Gokul_Project\\imppat_enriched.csv\", index=False)\n",
    "print(\"Saved as 'imppat_enriched.csv'\")\n"
   ]
  }
 ],
 "metadata": {
  "language_info": {
   "name": "python"
  }
 },
 "nbformat": 4,
 "nbformat_minor": 5
}
