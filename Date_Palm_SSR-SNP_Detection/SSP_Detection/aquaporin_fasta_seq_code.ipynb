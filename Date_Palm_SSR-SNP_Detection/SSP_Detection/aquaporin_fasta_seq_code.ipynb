{
 "cells": [
  {
   "cell_type": "code",
   "execution_count": null,
   "id": "eeaf8071-5c52-43e9-910f-c1770adfaa50",
   "metadata": {},
   "outputs": [
    {
     "name": "stdout",
     "output_type": "stream",
     "text": [
      "Sequences downloaded and saved to aquaporin_sequences.fasta\n"
     ]
    }
   ],
   "source": [
    "from Bio import Entrez\n",
    "\n",
    "# Set your email (required by NCBI)\n",
    "Entrez.email = \"your_email.account.com\"\n",
    "\n",
    "# List of accession numbers and their ranges\n",
    "accession_ranges = [\n",
    "    (\"NC_052398.1\", \"10742169..10744833\"),  # LOC103722820\n",
    "    (\"NC_052393.1\", \"11625181..11631100\"),  # LOC103717125\n",
    "    (\"NW_024067805.1\", \"67814..69113\"),     # LOC103715387\n",
    "    (\"NW_024067699.1\", \"432611..434442\"),   # LOC103714795\n",
    "    (\"NC_052396.1\", \"16852736..16854030\"),  # LOC103712467\n",
    "    (\"NW_024067971.1\", \"67765..68736\"),     # LOC103711314\n",
    "    (\"NC_052394.1\", \"1864307..1865417\"),    # LOC103710707\n",
    "    (\"NC_052393.1\", \"17587724..17589037\"),  # LOC103706129\n",
    "    (\"NC_052394.1\", \"22255234..22257564\"),  # LOC103705938\n",
    "    (\"NC_052392.1\", \"28487198..28490426\"),  # LOC103722095\n",
    "    (\"NC_052396.1\", \"4945337..4949472\"),  # LOC103712203\n",
    "    (\"NW_024068303.1\", \"111681..113030\"),  # LOC120107649\n",
    "    (\"NW_024067713.1\", \"256854..257826\"),     # LOC120105049\n",
    "    (\"NC_052393.1\", \"319249..322339\"),   # LOC103708407\n",
    "    (\"NW_024067990.1\", \"63604..95481\"),  # LOC103723194   \n",
    "    (\"NC_052396.1\", \"385271..386912\"),  # LOC103721145\n",
    "    (\"NC_052393.1\", \"4566837..4568319\"),  # LOC103719589\n",
    "    (\"NW_024067747.1\", \"310806..312417\"),     # LOC103718897\n",
    "    (\"NC_052393.1\", \"21326035..21328184\"),   # LOC103717431\n",
    "    (\"NC_052393.1\", \"9384080..9385201\"),  # LOC103716560\n",
    "    (\"NC_052395.1\", \"8689189..8696958\"),     # LOC103715571\n",
    "    (\"NC_052395.1\", \"8741832..8745004\"),    # LOC103715570\n",
    "    (\"NC_052396.1\", \"4040908..4041944\"),  # LOC103711683\n",
    "    (\"NC_052396.1\", \"4043655..4045080\"),  # LOC103711653\n",
    "    (\"NC_052393.1\", \"310154..313228\"),  # LOC103708406\n",
    "    (\"NC_052408.1\", \"15320269..15322558\"),  # LOC103705518\n",
    "    (\"NC_052403.1\", \"3357982..3365210\"),  # LOC103705010\n",
    "    (\"NC_052396.1\", \"2038022..2041943\"),     # LOC103703966\n",
    "    (\"NC_052399.1\", \"16693440..16695018\"),   # LOC103702536\n",
    "    (\"NC_052409.1\", \"2309390..2311605\"),  # LOC103698653  \n",
    "    (\"NW_024069043.1\", \"12988..21025\"),  # LOC103696742\n",
    "    (\"NC_052406.1\", \"7780590..7784921\"),  # LOC103716402\n",
    "    (\"NC_052397.1\", \"7146289..7151777\"),     # LOC103716122\n",
    "    (\"NC_052400.1\", \"19415284..19418127\"),   # LOC103710267\n",
    "    (\"NC_052399.1\", \"20455111..20457629\"),  # LOC103707376\n",
    "    (\"NC_052406.1\", \"10076706..10079274\"),     # LOC103705871\n",
    "    (\"NC_052397.1\", \"5271078..5276002\"),    # LOC103703092\n",
    "    (\"NC_052397.1\", \"2189206..2192689\"),  # LOC103701924\n",
    "    (\"NC_052395.1\", \"8718006..8718587\"),  # LOC120110619\n",
    "    (\"NC_052395.1\", \"8732632..8734968\"),  # LOC120110452\n",
    "    (\"NW_024068502.1\", \"31988..50548\"),  # LOC120108078\n",
    "    (\"NC_052393.1\", \"9389310..9391904\"),  # LOC103716561\n",
    "    (\"NC_052409.1\", \"2460912..2463187\"),     # LOC120104390 on numbers and ranges here\n",
    "]\n",
    "\n",
    "# Fetch sequences in FASTA format\n",
    "sequences = []\n",
    "for accession, seq_range in accession_ranges:\n",
    "    handle = Entrez.efetch(db=\"nucleotide\", id=accession, rettype=\"fasta\", retmode=\"text\", seq_start=seq_range.split(\"..\")[0], seq_stop=seq_range.split(\"..\")[1])\n",
    "    sequences.append(handle.read())\n",
    "    handle.close()\n",
    "\n",
    "# Save to a file\n",
    "with open(\"aquaporin_sequences.fasta\", \"w\") as f:\n",
    "    f.write(\"\\n\".join(sequences))\n",
    "\n",
    "print(\"Sequences downloaded and saved to aquaporin_sequences.fasta\")"
   ]
  },
  {
   "cell_type": "code",
   "execution_count": null,
   "id": "4b0e916f-b1e3-4e2e-8a6f-9b5c95d8e656",
   "metadata": {},
   "outputs": [],
   "source": []
  }
 ],
 "metadata": {
  "kernelspec": {
   "display_name": "Python 3 (ipykernel)",
   "language": "python",
   "name": "python3"
  },
  "language_info": {
   "codemirror_mode": {
    "name": "ipython",
    "version": 3
   },
   "file_extension": ".py",
   "mimetype": "text/x-python",
   "name": "python",
   "nbconvert_exporter": "python",
   "pygments_lexer": "ipython3",
   "version": "3.12.7"
  }
 },
 "nbformat": 4,
 "nbformat_minor": 5
}
