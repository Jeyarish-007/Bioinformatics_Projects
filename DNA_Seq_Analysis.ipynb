{
 "cells": [
  {
   "cell_type": "markdown",
   "id": "440061ea",
   "metadata": {},
   "source": [
    "DNA Sequence analysis\n"
   ]
  },
  {
   "cell_type": "markdown",
   "id": "77a99086",
   "metadata": {},
   "source": [
    "Objective: To analyze the DNA sequence and its patterns and statistics"
   ]
  },
  {
   "cell_type": "code",
   "execution_count": 6,
   "id": "afc49d43",
   "metadata": {},
   "outputs": [],
   "source": [
    "# defining a function to calculate nucleotide count\n",
    "\n",
    "def calculate_nucleotide_count(dna_seq):\n",
    "    frequency = {\"A\":0, \"T\":0, \"G\":0, \"C\":0}\n",
    "    for nucleotide in dna_seq:\n",
    "        if nucleotide in frequency:\n",
    "            frequency[nucleotide] +=1\n",
    "    return frequency"
   ]
  },
  {
   "cell_type": "code",
   "execution_count": 7,
   "id": "858fb58c",
   "metadata": {},
   "outputs": [],
   "source": [
    "# defining a function to calculate GC content\n",
    "\n",
    "def calculate_gc_content(dna_seq):\n",
    "    gc_count = dna_seq.count(\"G\") + dna_seq.count(\"C\")\n",
    "    return (gc_count/len(dna_seq)) * 100"
   ]
  },
  {
   "cell_type": "code",
   "execution_count": 12,
   "id": "eb06558e",
   "metadata": {},
   "outputs": [],
   "source": [
    "# Defining a function to Integrate the above 2 functions\n",
    "\n",
    "def analyze_dna_sequence(dna_seq):\n",
    "    nucleotide_frequency = calculate_nucleotide_count(dna_seq)\n",
    "    gc_content = calculate_gc_content(dna_seq)\n",
    "    \n",
    "    print(\"Nucleotide frequency: \")\n",
    "    for nucleotide, count in nucleotide_frequency.items():\n",
    "        print(f\"{nucleotide}: {count}\")\n",
    "        \n",
    "    print(f\"\\nGC content: {gc_content:.3f}%\")"
   ]
  },
  {
   "cell_type": "code",
   "execution_count": 13,
   "id": "42b8a57e",
   "metadata": {},
   "outputs": [
    {
     "name": "stdout",
     "output_type": "stream",
     "text": [
      "Please give DNA sequenceATCGATGGCTTA\n",
      "Nucleotide frequency: \n",
      "A: 3\n",
      "T: 4\n",
      "G: 3\n",
      "C: 2\n",
      "\n",
      "GC content: 41.667%\n"
     ]
    }
   ],
   "source": [
    "#user input dna sequence\n",
    "dna_ssequence = input(\"Please give DNA sequence\")\n",
    "analyze_dna_sequence(dna_ssequence)"
   ]
  },
  {
   "cell_type": "code",
   "execution_count": null,
   "id": "b6a361cf",
   "metadata": {},
   "outputs": [],
   "source": []
  }
 ],
 "metadata": {
  "celltoolbar": "Raw Cell Format",
  "kernelspec": {
   "display_name": "Python 3 (ipykernel)",
   "language": "python",
   "name": "python3"
  },
  "language_info": {
   "codemirror_mode": {
    "name": "ipython",
    "version": 3
   },
   "file_extension": ".py",
   "mimetype": "text/x-python",
   "name": "python",
   "nbconvert_exporter": "python",
   "pygments_lexer": "ipython3",
   "version": "3.9.13"
  }
 },
 "nbformat": 4,
 "nbformat_minor": 5
}
