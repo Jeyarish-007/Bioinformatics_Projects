{
 "cells": [
  {
   "cell_type": "code",
   "execution_count": 5,
   "id": "b98fe68f-1c99-495d-aa43-580efad67cc4",
   "metadata": {},
   "outputs": [
    {
     "name": "stdout",
     "output_type": "stream",
     "text": [
      "All files created:\n",
      "- headers.txt\n",
      "- chr_pos_ref_alt.tsv\n",
      "- dp6_variants.tsv\n"
     ]
    }
   ],
   "source": [
    "import gzip\n",
    "\n",
    "# Input gzipped VCF file\n",
    "vcf_path = r\"C:\\Users\\jeyar\\Downloads\\variants.vcf.gz\"  # Change this path if needed\n",
    "\n",
    "# Read and split header and variant lines\n",
    "with gzip.open(vcf_path, 'rt') as f:\n",
    "    lines = f.readlines()\n",
    "\n",
    "header_lines = [line for line in lines if line.startswith(\"#\")]\n",
    "variant_lines = [line for line in lines if not line.startswith(\"#\")]\n",
    "\n",
    "# Save headers to a file\n",
    "with open(\"headers.txt\", \"w\") as header_file:\n",
    "    header_file.writelines(header_lines)\n",
    "\n",
    "# Prepare output data\n",
    "chr_pos_ref_alt = []\n",
    "dp6_variants = []\n",
    "\n",
    "for line in variant_lines:\n",
    "    fields = line.strip().split('\\t')\n",
    "    chrom, pos, ref, alt, info = fields[0], fields[1], fields[3], fields[4], fields[7]\n",
    "    \n",
    "    # Task 2: Extract specific columns\n",
    "    chr_pos_ref_alt.append(f\"{chrom}\\t{pos}\\t{ref}\\t{alt}\\n\")\n",
    "    \n",
    "    # Task 3: Filter for DP=6\n",
    "    for entry in info.split(\";\"):\n",
    "        if entry.startswith(\"DP=\") and entry == \"DP=6\":\n",
    "            dp6_variants.append(line)\n",
    "            break\n",
    "\n",
    "# Write the extracted columns to file\n",
    "with open(\"chr_pos_ref_alt.tsv\", \"w\") as out1:\n",
    "    out1.writelines(chr_pos_ref_alt)\n",
    "\n",
    "# Write DP=6 variants to file\n",
    "with open(\"dp6_variants.tsv\", \"w\") as out2:\n",
    "    out2.writelines(dp6_variants)\n",
    "\n",
    "print(\"All files created:\")\n",
    "print(\"- headers.txt\")\n",
    "print(\"- chr_pos_ref_alt.tsv\")\n",
    "print(\"- dp6_variants.tsv\")\n"
   ]
  },
  {
   "cell_type": "code",
   "execution_count": null,
   "id": "87fff7b2-d8fb-4c8e-90b4-764383eb1c9a",
   "metadata": {},
   "outputs": [],
   "source": []
  }
 ],
 "metadata": {
  "kernelspec": {
   "display_name": "Python 3 (ipykernel)",
   "language": "python",
   "name": "python3"
  },
  "language_info": {
   "codemirror_mode": {
    "name": "ipython",
    "version": 3
   },
   "file_extension": ".py",
   "mimetype": "text/x-python",
   "name": "python",
   "nbconvert_exporter": "python",
   "pygments_lexer": "ipython3",
   "version": "3.12.7"
  }
 },
 "nbformat": 4,
 "nbformat_minor": 5
}
