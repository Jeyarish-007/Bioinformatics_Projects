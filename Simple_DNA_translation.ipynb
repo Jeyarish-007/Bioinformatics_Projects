{
 "cells": [
  {
   "cell_type": "markdown",
   "id": "721b36dd-ee7f-444c-90d6-7f723dba01ba",
   "metadata": {},
   "source": [
    "# Simple_DNA_Translation"
   ]
  },
  {
   "cell_type": "markdown",
   "id": "fa9adba2-a826-4e87-a8eb-0f017a882cb7",
   "metadata": {},
   "source": [
    "## Objective: To translate DNA sequence to protein sequence (without handling introns)"
   ]
  },
  {
   "cell_type": "code",
   "execution_count": null,
   "id": "bf6aa3bc-906a-440d-860a-7fc399dcc1ff",
   "metadata": {},
   "outputs": [],
   "source": [
    "# Defining the genetic code in a dictionary\n",
    "genetic_code = { 'ATA':'I', 'ATC':'I', 'ATT':'I', 'ATG':'M', 'ACA':'T',\n",
    "                 'ACC':'T', 'ACG':'T', 'ACT':'T', 'AAC':'N', 'AAT':'N',\n",
    "                 'AAA':'K', 'AAG':'K', 'AGC':'S', 'AGT':'S', 'AGA':'R',\n",
    "                 'AGG':'R','CTA':'L', 'CTC':'L', 'CTG':'L', 'CTT':'L',\n",
    "                 'CCA':'P', 'CCC':'P', 'CCG':'P', 'CCT':'P', 'CAC':'H',\n",
    "                 'CAT':'H', 'CAA':'Q', 'CAG':'Q', 'CGA':'R', 'CGC':'R',\n",
    "                 'CGG':'R', 'CGT':'R', 'GTA':'V', 'GTC':'V', 'GTG':'V',\n",
    "                 'GTT':'V', 'GCA':'A', 'GCC':'A', 'GCG':'A', 'GCT':'A', \n",
    "                 'GAC':'D', 'GAT':'D', 'GAA':'E', 'GAG':'E', 'GGA':'G',\n",
    "                 'GGC':'G', 'GGG':'G', 'GGT':'G', 'TCA':'S', 'TCC':'S',\n",
    "                 'TCG':'S', 'TCT':'S', 'TTC':'F', 'TTT':'F', 'TTA':'L',\n",
    "                 'TTG':'L', 'TAC':'Y', 'TAT':'Y', 'TAA':'_', 'TAG':'_',\n",
    "                 'TGC':'C', 'TGT':'C', 'TGA':'_', 'TGG':'W', }\n",
    "\n",
    "def translate_DNA_seq(DNA_seq):\n",
    "    protein_seq = \" \"\n",
    "    for i in range (0, len(DNA_seq), 3):\n",
    "        codon = DNA_seq[i:i+3]\n",
    "        protein_seq += genetic_code.get(codon, \"*\")\n",
    "    return protein_seq\n",
    "\n",
    "# user example\n",
    "dna_sequence = input(\"Enter a DNA sequence\").upper()\n",
    "DNA_translation = translate_DNA_seq(dna_sequence)\n",
    "print(f\"The DNA Sequence is:\\n{dna_sequence}\\nThe translated DNA sequence(protein sequence) is:\\n{DNA_translation}\")"
   ]
  },
  {
   "cell_type": "code",
   "execution_count": null,
   "id": "f655fb53-760f-4511-8cc6-7e70283bee03",
   "metadata": {},
   "outputs": [],
   "source": []
  }
 ],
 "metadata": {
  "kernelspec": {
   "display_name": "Python 3 (ipykernel)",
   "language": "python",
   "name": "python3"
  },
  "language_info": {
   "codemirror_mode": {
    "name": "ipython",
    "version": 3
   },
   "file_extension": ".py",
   "mimetype": "text/x-python",
   "name": "python",
   "nbconvert_exporter": "python",
   "pygments_lexer": "ipython3",
   "version": "3.12.7"
  }
 },
 "nbformat": 4,
 "nbformat_minor": 5
}
