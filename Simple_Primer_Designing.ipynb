{
 "cells": [
  {
   "cell_type": "code",
   "execution_count": null,
   "id": "4aaa7bf9-5272-437e-9543-daf7bb1633f3",
   "metadata": {
    "scrolled": true
   },
   "outputs": [],
   "source": [
    "# Function to calculate the melting temperature (Tm)\n",
    "def calculate_primer_tm(primer):\n",
    "    a_count = primer.count('A')\n",
    "    t_count = primer.count('T')\n",
    "    g_count = primer.count('G')\n",
    "    c_count = primer.count('C')\n",
    "    \n",
    "    # Tm calculation using the formula\n",
    "    tm = 2 * (a_count + t_count) + 4 * (g_count + c_count)\n",
    "    return tm\n",
    "\n",
    "# Function to calculate the GC content\n",
    "def calculate_gc_content(primer):\n",
    "    g_count = primer.count('G')\n",
    "    c_count = primer.count('C')\n",
    "    total_bases = len(primer)\n",
    "    \n",
    "    # GC content calculation\n",
    "    gc_content = ((g_count + c_count) / total_bases) * 100\n",
    "    return gc_content\n",
    "\n",
    "# Function to design primers\n",
    "def design_primers(target_sequence, primer_length=20, tm_threshold=60, gc_threshold=(40, 60)):\n",
    "    primers = []\n",
    "    \n",
    "    for i in range(len(target_sequence) - primer_length + 1):\n",
    "        primer = target_sequence[i:i + primer_length]\n",
    "        tm = calculate_primer_tm(primer)\n",
    "        gc_content = calculate_gc_content(primer)\n",
    "        \n",
    "        print(f\"Checking primer: {primer}, Tm: {tm}, GC_Content: {gc_content}%\")  # Debug statement\n",
    "        \n",
    "        if tm >= tm_threshold and gc_threshold[0] <= gc_content <= gc_threshold[1]:\n",
    "            primers.append({\n",
    "                'primer': primer,\n",
    "                'position': i,\n",
    "                'Tm': tm,\n",
    "                'GC_Content': gc_content\n",
    "            })\n",
    "    \n",
    "    return primers\n",
    "\n",
    "# Example usage\n",
    "#target_sequence = \"cagctggggggaggtggcgaggaagatgacgtggtcgaggtcgacggtatcgagttgtcgcggcagctgccaatacg\".upper()\n",
    "target_sequence = input(\"Enter a target DNA sequence\").upper()\n",
    "primers = design_primers(target_sequence)\n",
    "\n",
    "for primer in primers:\n",
    "    print(f\"Primer: {primer['primer']}, Position: {primer['position']}, Tm: {primer['Tm']:.2f}, GC_Content: {primer['GC_Content']:.2f}%\")\n"
   ]
  },
  {
   "cell_type": "code",
   "execution_count": null,
   "id": "7b12afb9-7972-40f1-aa1c-c1382e6faa51",
   "metadata": {},
   "outputs": [],
   "source": []
  }
 ],
 "metadata": {
  "kernelspec": {
   "display_name": "Python 3 (ipykernel)",
   "language": "python",
   "name": "python3"
  },
  "language_info": {
   "codemirror_mode": {
    "name": "ipython",
    "version": 3
   },
   "file_extension": ".py",
   "mimetype": "text/x-python",
   "name": "python",
   "nbconvert_exporter": "python",
   "pygments_lexer": "ipython3",
   "version": "3.12.7"
  }
 },
 "nbformat": 4,
 "nbformat_minor": 5
}
